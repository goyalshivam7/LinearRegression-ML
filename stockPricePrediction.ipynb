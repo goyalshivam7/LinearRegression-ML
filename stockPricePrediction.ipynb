{
  "nbformat": 4,
  "nbformat_minor": 0,
  "metadata": {
    "colab": {
      "name": "stockPredict.ipynb",
      "provenance": [],
      "collapsed_sections": [],
      "authorship_tag": "ABX9TyMbQbiLl/LGbIRllsS8CY9c",
      "include_colab_link": true
    },
    "kernelspec": {
      "name": "python3",
      "display_name": "Python 3"
    }
  },
  "cells": [
    {
      "cell_type": "markdown",
      "metadata": {
        "id": "view-in-github",
        "colab_type": "text"
      },
      "source": [
        "<a href=\"https://colab.research.google.com/github/shivamgoyal7/LinearRegression-ML/blob/master/stockPricePrediction.ipynb\" target=\"_parent\"><img src=\"https://colab.research.google.com/assets/colab-badge.svg\" alt=\"Open In Colab\"/></a>"
      ]
    },
    {
      "cell_type": "markdown",
      "metadata": {
        "id": "1toquGnf8PPQ",
        "colab_type": "text"
      },
      "source": [
        "# **STOCK PRICE PREDICTION**"
      ]
    },
    {
      "cell_type": "code",
      "metadata": {
        "id": "MeD8-elf5OmC",
        "colab_type": "code",
        "colab": {
          "base_uri": "https://localhost:8080/",
          "height": 238
        },
        "outputId": "22efb2ef-6c3f-44c1-92f3-4d1f575550bc"
      },
      "source": [
        "!pip install quandl"
      ],
      "execution_count": 14,
      "outputs": [
        {
          "output_type": "stream",
          "text": [
            "Requirement already satisfied: quandl in /usr/local/lib/python3.6/dist-packages (3.5.2)\n",
            "Requirement already satisfied: pandas>=0.14 in /usr/local/lib/python3.6/dist-packages (from quandl) (1.0.5)\n",
            "Requirement already satisfied: python-dateutil in /usr/local/lib/python3.6/dist-packages (from quandl) (2.8.1)\n",
            "Requirement already satisfied: inflection>=0.3.1 in /usr/local/lib/python3.6/dist-packages (from quandl) (0.5.0)\n",
            "Requirement already satisfied: more-itertools in /usr/local/lib/python3.6/dist-packages (from quandl) (8.4.0)\n",
            "Requirement already satisfied: numpy>=1.8 in /usr/local/lib/python3.6/dist-packages (from quandl) (1.18.5)\n",
            "Requirement already satisfied: requests>=2.7.0 in /usr/local/lib/python3.6/dist-packages (from quandl) (2.23.0)\n",
            "Requirement already satisfied: six in /usr/local/lib/python3.6/dist-packages (from quandl) (1.15.0)\n",
            "Requirement already satisfied: pytz>=2017.2 in /usr/local/lib/python3.6/dist-packages (from pandas>=0.14->quandl) (2018.9)\n",
            "Requirement already satisfied: urllib3!=1.25.0,!=1.25.1,<1.26,>=1.21.1 in /usr/local/lib/python3.6/dist-packages (from requests>=2.7.0->quandl) (1.24.3)\n",
            "Requirement already satisfied: idna<3,>=2.5 in /usr/local/lib/python3.6/dist-packages (from requests>=2.7.0->quandl) (2.10)\n",
            "Requirement already satisfied: chardet<4,>=3.0.2 in /usr/local/lib/python3.6/dist-packages (from requests>=2.7.0->quandl) (3.0.4)\n",
            "Requirement already satisfied: certifi>=2017.4.17 in /usr/local/lib/python3.6/dist-packages (from requests>=2.7.0->quandl) (2020.6.20)\n"
          ],
          "name": "stdout"
        }
      ]
    },
    {
      "cell_type": "code",
      "metadata": {
        "id": "MPB_URRVvsm0",
        "colab_type": "code",
        "colab": {}
      },
      "source": [
        "#Quandl unifies financial and economic datasets from hundreds of publishers on a single user-friendly platform.\n",
        "\n",
        "import quandl\n",
        "import numpy as np"
      ],
      "execution_count": 15,
      "outputs": []
    },
    {
      "cell_type": "code",
      "metadata": {
        "id": "QvLH7F7m1sMA",
        "colab_type": "code",
        "colab": {
          "base_uri": "https://localhost:8080/",
          "height": 450
        },
        "outputId": "39bce7f7-6e15-4fff-fff0-88247b6ab2e2"
      },
      "source": [
        "#amazon dataset is used here\n",
        "\n",
        "dataset = quandl.get(\"WIKI/AMZN\")\n",
        "dataset"
      ],
      "execution_count": 16,
      "outputs": [
        {
          "output_type": "execute_result",
          "data": {
            "text/html": [
              "<div>\n",
              "<style scoped>\n",
              "    .dataframe tbody tr th:only-of-type {\n",
              "        vertical-align: middle;\n",
              "    }\n",
              "\n",
              "    .dataframe tbody tr th {\n",
              "        vertical-align: top;\n",
              "    }\n",
              "\n",
              "    .dataframe thead th {\n",
              "        text-align: right;\n",
              "    }\n",
              "</style>\n",
              "<table border=\"1\" class=\"dataframe\">\n",
              "  <thead>\n",
              "    <tr style=\"text-align: right;\">\n",
              "      <th></th>\n",
              "      <th>Open</th>\n",
              "      <th>High</th>\n",
              "      <th>Low</th>\n",
              "      <th>Close</th>\n",
              "      <th>Volume</th>\n",
              "      <th>Ex-Dividend</th>\n",
              "      <th>Split Ratio</th>\n",
              "      <th>Adj. Open</th>\n",
              "      <th>Adj. High</th>\n",
              "      <th>Adj. Low</th>\n",
              "      <th>Adj. Close</th>\n",
              "      <th>Adj. Volume</th>\n",
              "    </tr>\n",
              "    <tr>\n",
              "      <th>Date</th>\n",
              "      <th></th>\n",
              "      <th></th>\n",
              "      <th></th>\n",
              "      <th></th>\n",
              "      <th></th>\n",
              "      <th></th>\n",
              "      <th></th>\n",
              "      <th></th>\n",
              "      <th></th>\n",
              "      <th></th>\n",
              "      <th></th>\n",
              "      <th></th>\n",
              "    </tr>\n",
              "  </thead>\n",
              "  <tbody>\n",
              "    <tr>\n",
              "      <th>1997-05-16</th>\n",
              "      <td>22.38</td>\n",
              "      <td>23.75</td>\n",
              "      <td>20.50</td>\n",
              "      <td>20.75</td>\n",
              "      <td>1225000.0</td>\n",
              "      <td>0.0</td>\n",
              "      <td>1.0</td>\n",
              "      <td>1.865000</td>\n",
              "      <td>1.979167</td>\n",
              "      <td>1.708333</td>\n",
              "      <td>1.729167</td>\n",
              "      <td>14700000.0</td>\n",
              "    </tr>\n",
              "    <tr>\n",
              "      <th>1997-05-19</th>\n",
              "      <td>20.50</td>\n",
              "      <td>21.25</td>\n",
              "      <td>19.50</td>\n",
              "      <td>20.50</td>\n",
              "      <td>508900.0</td>\n",
              "      <td>0.0</td>\n",
              "      <td>1.0</td>\n",
              "      <td>1.708333</td>\n",
              "      <td>1.770833</td>\n",
              "      <td>1.625000</td>\n",
              "      <td>1.708333</td>\n",
              "      <td>6106800.0</td>\n",
              "    </tr>\n",
              "    <tr>\n",
              "      <th>1997-05-20</th>\n",
              "      <td>20.75</td>\n",
              "      <td>21.00</td>\n",
              "      <td>19.63</td>\n",
              "      <td>19.63</td>\n",
              "      <td>455600.0</td>\n",
              "      <td>0.0</td>\n",
              "      <td>1.0</td>\n",
              "      <td>1.729167</td>\n",
              "      <td>1.750000</td>\n",
              "      <td>1.635833</td>\n",
              "      <td>1.635833</td>\n",
              "      <td>5467200.0</td>\n",
              "    </tr>\n",
              "    <tr>\n",
              "      <th>1997-05-21</th>\n",
              "      <td>19.25</td>\n",
              "      <td>19.75</td>\n",
              "      <td>16.50</td>\n",
              "      <td>17.13</td>\n",
              "      <td>1571100.0</td>\n",
              "      <td>0.0</td>\n",
              "      <td>1.0</td>\n",
              "      <td>1.604167</td>\n",
              "      <td>1.645833</td>\n",
              "      <td>1.375000</td>\n",
              "      <td>1.427500</td>\n",
              "      <td>18853200.0</td>\n",
              "    </tr>\n",
              "    <tr>\n",
              "      <th>1997-05-22</th>\n",
              "      <td>17.25</td>\n",
              "      <td>17.38</td>\n",
              "      <td>15.75</td>\n",
              "      <td>16.75</td>\n",
              "      <td>981400.0</td>\n",
              "      <td>0.0</td>\n",
              "      <td>1.0</td>\n",
              "      <td>1.437500</td>\n",
              "      <td>1.448333</td>\n",
              "      <td>1.312500</td>\n",
              "      <td>1.395833</td>\n",
              "      <td>11776800.0</td>\n",
              "    </tr>\n",
              "    <tr>\n",
              "      <th>...</th>\n",
              "      <td>...</td>\n",
              "      <td>...</td>\n",
              "      <td>...</td>\n",
              "      <td>...</td>\n",
              "      <td>...</td>\n",
              "      <td>...</td>\n",
              "      <td>...</td>\n",
              "      <td>...</td>\n",
              "      <td>...</td>\n",
              "      <td>...</td>\n",
              "      <td>...</td>\n",
              "      <td>...</td>\n",
              "    </tr>\n",
              "    <tr>\n",
              "      <th>2018-03-21</th>\n",
              "      <td>1586.45</td>\n",
              "      <td>1590.00</td>\n",
              "      <td>1563.17</td>\n",
              "      <td>1581.86</td>\n",
              "      <td>4667291.0</td>\n",
              "      <td>0.0</td>\n",
              "      <td>1.0</td>\n",
              "      <td>1586.450000</td>\n",
              "      <td>1590.000000</td>\n",
              "      <td>1563.170000</td>\n",
              "      <td>1581.860000</td>\n",
              "      <td>4667291.0</td>\n",
              "    </tr>\n",
              "    <tr>\n",
              "      <th>2018-03-22</th>\n",
              "      <td>1565.47</td>\n",
              "      <td>1573.85</td>\n",
              "      <td>1542.40</td>\n",
              "      <td>1544.10</td>\n",
              "      <td>6177737.0</td>\n",
              "      <td>0.0</td>\n",
              "      <td>1.0</td>\n",
              "      <td>1565.470000</td>\n",
              "      <td>1573.850000</td>\n",
              "      <td>1542.400000</td>\n",
              "      <td>1544.100000</td>\n",
              "      <td>6177737.0</td>\n",
              "    </tr>\n",
              "    <tr>\n",
              "      <th>2018-03-23</th>\n",
              "      <td>1539.01</td>\n",
              "      <td>1549.02</td>\n",
              "      <td>1495.36</td>\n",
              "      <td>1495.56</td>\n",
              "      <td>7843966.0</td>\n",
              "      <td>0.0</td>\n",
              "      <td>1.0</td>\n",
              "      <td>1539.010000</td>\n",
              "      <td>1549.020000</td>\n",
              "      <td>1495.360000</td>\n",
              "      <td>1495.560000</td>\n",
              "      <td>7843966.0</td>\n",
              "    </tr>\n",
              "    <tr>\n",
              "      <th>2018-03-26</th>\n",
              "      <td>1530.00</td>\n",
              "      <td>1556.99</td>\n",
              "      <td>1499.25</td>\n",
              "      <td>1555.86</td>\n",
              "      <td>5547618.0</td>\n",
              "      <td>0.0</td>\n",
              "      <td>1.0</td>\n",
              "      <td>1530.000000</td>\n",
              "      <td>1556.990000</td>\n",
              "      <td>1499.250000</td>\n",
              "      <td>1555.860000</td>\n",
              "      <td>5547618.0</td>\n",
              "    </tr>\n",
              "    <tr>\n",
              "      <th>2018-03-27</th>\n",
              "      <td>1572.40</td>\n",
              "      <td>1575.96</td>\n",
              "      <td>1482.32</td>\n",
              "      <td>1497.05</td>\n",
              "      <td>6793279.0</td>\n",
              "      <td>0.0</td>\n",
              "      <td>1.0</td>\n",
              "      <td>1572.400000</td>\n",
              "      <td>1575.960000</td>\n",
              "      <td>1482.320000</td>\n",
              "      <td>1497.050000</td>\n",
              "      <td>6793279.0</td>\n",
              "    </tr>\n",
              "  </tbody>\n",
              "</table>\n",
              "<p>5248 rows × 12 columns</p>\n",
              "</div>"
            ],
            "text/plain": [
              "               Open     High      Low  ...     Adj. Low   Adj. Close  Adj. Volume\n",
              "Date                                   ...                                       \n",
              "1997-05-16    22.38    23.75    20.50  ...     1.708333     1.729167   14700000.0\n",
              "1997-05-19    20.50    21.25    19.50  ...     1.625000     1.708333    6106800.0\n",
              "1997-05-20    20.75    21.00    19.63  ...     1.635833     1.635833    5467200.0\n",
              "1997-05-21    19.25    19.75    16.50  ...     1.375000     1.427500   18853200.0\n",
              "1997-05-22    17.25    17.38    15.75  ...     1.312500     1.395833   11776800.0\n",
              "...             ...      ...      ...  ...          ...          ...          ...\n",
              "2018-03-21  1586.45  1590.00  1563.17  ...  1563.170000  1581.860000    4667291.0\n",
              "2018-03-22  1565.47  1573.85  1542.40  ...  1542.400000  1544.100000    6177737.0\n",
              "2018-03-23  1539.01  1549.02  1495.36  ...  1495.360000  1495.560000    7843966.0\n",
              "2018-03-26  1530.00  1556.99  1499.25  ...  1499.250000  1555.860000    5547618.0\n",
              "2018-03-27  1572.40  1575.96  1482.32  ...  1482.320000  1497.050000    6793279.0\n",
              "\n",
              "[5248 rows x 12 columns]"
            ]
          },
          "metadata": {
            "tags": []
          },
          "execution_count": 16
        }
      ]
    },
    {
      "cell_type": "code",
      "metadata": {
        "id": "OpTmyIEV2HYp",
        "colab_type": "code",
        "colab": {
          "base_uri": "https://localhost:8080/",
          "height": 450
        },
        "outputId": "76f2babc-ccd9-4796-ebb3-e6da3f33e248"
      },
      "source": [
        "#added a new column of 'Prediction' at the end to predict stock price\n",
        "\n",
        "dataset['Prediction'] = dataset[['Adj. Close']].shift(-30)\n",
        "dataset"
      ],
      "execution_count": 17,
      "outputs": [
        {
          "output_type": "execute_result",
          "data": {
            "text/html": [
              "<div>\n",
              "<style scoped>\n",
              "    .dataframe tbody tr th:only-of-type {\n",
              "        vertical-align: middle;\n",
              "    }\n",
              "\n",
              "    .dataframe tbody tr th {\n",
              "        vertical-align: top;\n",
              "    }\n",
              "\n",
              "    .dataframe thead th {\n",
              "        text-align: right;\n",
              "    }\n",
              "</style>\n",
              "<table border=\"1\" class=\"dataframe\">\n",
              "  <thead>\n",
              "    <tr style=\"text-align: right;\">\n",
              "      <th></th>\n",
              "      <th>Open</th>\n",
              "      <th>High</th>\n",
              "      <th>Low</th>\n",
              "      <th>Close</th>\n",
              "      <th>Volume</th>\n",
              "      <th>Ex-Dividend</th>\n",
              "      <th>Split Ratio</th>\n",
              "      <th>Adj. Open</th>\n",
              "      <th>Adj. High</th>\n",
              "      <th>Adj. Low</th>\n",
              "      <th>Adj. Close</th>\n",
              "      <th>Adj. Volume</th>\n",
              "      <th>Prediction</th>\n",
              "    </tr>\n",
              "    <tr>\n",
              "      <th>Date</th>\n",
              "      <th></th>\n",
              "      <th></th>\n",
              "      <th></th>\n",
              "      <th></th>\n",
              "      <th></th>\n",
              "      <th></th>\n",
              "      <th></th>\n",
              "      <th></th>\n",
              "      <th></th>\n",
              "      <th></th>\n",
              "      <th></th>\n",
              "      <th></th>\n",
              "      <th></th>\n",
              "    </tr>\n",
              "  </thead>\n",
              "  <tbody>\n",
              "    <tr>\n",
              "      <th>1997-05-16</th>\n",
              "      <td>22.38</td>\n",
              "      <td>23.75</td>\n",
              "      <td>20.50</td>\n",
              "      <td>20.75</td>\n",
              "      <td>1225000.0</td>\n",
              "      <td>0.0</td>\n",
              "      <td>1.0</td>\n",
              "      <td>1.865000</td>\n",
              "      <td>1.979167</td>\n",
              "      <td>1.708333</td>\n",
              "      <td>1.729167</td>\n",
              "      <td>14700000.0</td>\n",
              "      <td>1.541667</td>\n",
              "    </tr>\n",
              "    <tr>\n",
              "      <th>1997-05-19</th>\n",
              "      <td>20.50</td>\n",
              "      <td>21.25</td>\n",
              "      <td>19.50</td>\n",
              "      <td>20.50</td>\n",
              "      <td>508900.0</td>\n",
              "      <td>0.0</td>\n",
              "      <td>1.0</td>\n",
              "      <td>1.708333</td>\n",
              "      <td>1.770833</td>\n",
              "      <td>1.625000</td>\n",
              "      <td>1.708333</td>\n",
              "      <td>6106800.0</td>\n",
              "      <td>1.515833</td>\n",
              "    </tr>\n",
              "    <tr>\n",
              "      <th>1997-05-20</th>\n",
              "      <td>20.75</td>\n",
              "      <td>21.00</td>\n",
              "      <td>19.63</td>\n",
              "      <td>19.63</td>\n",
              "      <td>455600.0</td>\n",
              "      <td>0.0</td>\n",
              "      <td>1.0</td>\n",
              "      <td>1.729167</td>\n",
              "      <td>1.750000</td>\n",
              "      <td>1.635833</td>\n",
              "      <td>1.635833</td>\n",
              "      <td>5467200.0</td>\n",
              "      <td>1.588333</td>\n",
              "    </tr>\n",
              "    <tr>\n",
              "      <th>1997-05-21</th>\n",
              "      <td>19.25</td>\n",
              "      <td>19.75</td>\n",
              "      <td>16.50</td>\n",
              "      <td>17.13</td>\n",
              "      <td>1571100.0</td>\n",
              "      <td>0.0</td>\n",
              "      <td>1.0</td>\n",
              "      <td>1.604167</td>\n",
              "      <td>1.645833</td>\n",
              "      <td>1.375000</td>\n",
              "      <td>1.427500</td>\n",
              "      <td>18853200.0</td>\n",
              "      <td>1.911667</td>\n",
              "    </tr>\n",
              "    <tr>\n",
              "      <th>1997-05-22</th>\n",
              "      <td>17.25</td>\n",
              "      <td>17.38</td>\n",
              "      <td>15.75</td>\n",
              "      <td>16.75</td>\n",
              "      <td>981400.0</td>\n",
              "      <td>0.0</td>\n",
              "      <td>1.0</td>\n",
              "      <td>1.437500</td>\n",
              "      <td>1.448333</td>\n",
              "      <td>1.312500</td>\n",
              "      <td>1.395833</td>\n",
              "      <td>11776800.0</td>\n",
              "      <td>2.000000</td>\n",
              "    </tr>\n",
              "    <tr>\n",
              "      <th>...</th>\n",
              "      <td>...</td>\n",
              "      <td>...</td>\n",
              "      <td>...</td>\n",
              "      <td>...</td>\n",
              "      <td>...</td>\n",
              "      <td>...</td>\n",
              "      <td>...</td>\n",
              "      <td>...</td>\n",
              "      <td>...</td>\n",
              "      <td>...</td>\n",
              "      <td>...</td>\n",
              "      <td>...</td>\n",
              "      <td>...</td>\n",
              "    </tr>\n",
              "    <tr>\n",
              "      <th>2018-03-21</th>\n",
              "      <td>1586.45</td>\n",
              "      <td>1590.00</td>\n",
              "      <td>1563.17</td>\n",
              "      <td>1581.86</td>\n",
              "      <td>4667291.0</td>\n",
              "      <td>0.0</td>\n",
              "      <td>1.0</td>\n",
              "      <td>1586.450000</td>\n",
              "      <td>1590.000000</td>\n",
              "      <td>1563.170000</td>\n",
              "      <td>1581.860000</td>\n",
              "      <td>4667291.0</td>\n",
              "      <td>NaN</td>\n",
              "    </tr>\n",
              "    <tr>\n",
              "      <th>2018-03-22</th>\n",
              "      <td>1565.47</td>\n",
              "      <td>1573.85</td>\n",
              "      <td>1542.40</td>\n",
              "      <td>1544.10</td>\n",
              "      <td>6177737.0</td>\n",
              "      <td>0.0</td>\n",
              "      <td>1.0</td>\n",
              "      <td>1565.470000</td>\n",
              "      <td>1573.850000</td>\n",
              "      <td>1542.400000</td>\n",
              "      <td>1544.100000</td>\n",
              "      <td>6177737.0</td>\n",
              "      <td>NaN</td>\n",
              "    </tr>\n",
              "    <tr>\n",
              "      <th>2018-03-23</th>\n",
              "      <td>1539.01</td>\n",
              "      <td>1549.02</td>\n",
              "      <td>1495.36</td>\n",
              "      <td>1495.56</td>\n",
              "      <td>7843966.0</td>\n",
              "      <td>0.0</td>\n",
              "      <td>1.0</td>\n",
              "      <td>1539.010000</td>\n",
              "      <td>1549.020000</td>\n",
              "      <td>1495.360000</td>\n",
              "      <td>1495.560000</td>\n",
              "      <td>7843966.0</td>\n",
              "      <td>NaN</td>\n",
              "    </tr>\n",
              "    <tr>\n",
              "      <th>2018-03-26</th>\n",
              "      <td>1530.00</td>\n",
              "      <td>1556.99</td>\n",
              "      <td>1499.25</td>\n",
              "      <td>1555.86</td>\n",
              "      <td>5547618.0</td>\n",
              "      <td>0.0</td>\n",
              "      <td>1.0</td>\n",
              "      <td>1530.000000</td>\n",
              "      <td>1556.990000</td>\n",
              "      <td>1499.250000</td>\n",
              "      <td>1555.860000</td>\n",
              "      <td>5547618.0</td>\n",
              "      <td>NaN</td>\n",
              "    </tr>\n",
              "    <tr>\n",
              "      <th>2018-03-27</th>\n",
              "      <td>1572.40</td>\n",
              "      <td>1575.96</td>\n",
              "      <td>1482.32</td>\n",
              "      <td>1497.05</td>\n",
              "      <td>6793279.0</td>\n",
              "      <td>0.0</td>\n",
              "      <td>1.0</td>\n",
              "      <td>1572.400000</td>\n",
              "      <td>1575.960000</td>\n",
              "      <td>1482.320000</td>\n",
              "      <td>1497.050000</td>\n",
              "      <td>6793279.0</td>\n",
              "      <td>NaN</td>\n",
              "    </tr>\n",
              "  </tbody>\n",
              "</table>\n",
              "<p>5248 rows × 13 columns</p>\n",
              "</div>"
            ],
            "text/plain": [
              "               Open     High      Low  ...   Adj. Close  Adj. Volume  Prediction\n",
              "Date                                   ...                                      \n",
              "1997-05-16    22.38    23.75    20.50  ...     1.729167   14700000.0    1.541667\n",
              "1997-05-19    20.50    21.25    19.50  ...     1.708333    6106800.0    1.515833\n",
              "1997-05-20    20.75    21.00    19.63  ...     1.635833    5467200.0    1.588333\n",
              "1997-05-21    19.25    19.75    16.50  ...     1.427500   18853200.0    1.911667\n",
              "1997-05-22    17.25    17.38    15.75  ...     1.395833   11776800.0    2.000000\n",
              "...             ...      ...      ...  ...          ...          ...         ...\n",
              "2018-03-21  1586.45  1590.00  1563.17  ...  1581.860000    4667291.0         NaN\n",
              "2018-03-22  1565.47  1573.85  1542.40  ...  1544.100000    6177737.0         NaN\n",
              "2018-03-23  1539.01  1549.02  1495.36  ...  1495.560000    7843966.0         NaN\n",
              "2018-03-26  1530.00  1556.99  1499.25  ...  1555.860000    5547618.0         NaN\n",
              "2018-03-27  1572.40  1575.96  1482.32  ...  1497.050000    6793279.0         NaN\n",
              "\n",
              "[5248 rows x 13 columns]"
            ]
          },
          "metadata": {
            "tags": []
          },
          "execution_count": 17
        }
      ]
    },
    {
      "cell_type": "code",
      "metadata": {
        "id": "yxsvCyzoFHvs",
        "colab_type": "code",
        "colab": {
          "base_uri": "https://localhost:8080/",
          "height": 238
        },
        "outputId": "5fa547ab-7edc-4435-f317-6fa79b8509da"
      },
      "source": [
        "# x is column start from 0 to -1\n",
        "\n",
        "x = np.array(dataset.drop(['Prediction'], 1))\n",
        "x = x[: -30]\n",
        "x"
      ],
      "execution_count": 18,
      "outputs": [
        {
          "output_type": "execute_result",
          "data": {
            "text/plain": [
              "array([[2.23800000e+01, 2.37500000e+01, 2.05000000e+01, ...,\n",
              "        1.70833333e+00, 1.72916667e+00, 1.47000000e+07],\n",
              "       [2.05000000e+01, 2.12500000e+01, 1.95000000e+01, ...,\n",
              "        1.62500000e+00, 1.70833333e+00, 6.10680000e+06],\n",
              "       [2.07500000e+01, 2.10000000e+01, 1.96300000e+01, ...,\n",
              "        1.63583333e+00, 1.63583333e+00, 5.46720000e+06],\n",
              "       ...,\n",
              "       [1.42967000e+03, 1.43375000e+03, 1.34994000e+03, ...,\n",
              "        1.34994000e+03, 1.35047000e+03, 8.10856000e+06],\n",
              "       [1.37349000e+03, 1.38350000e+03, 1.26593000e+03, ...,\n",
              "        1.26593000e+03, 1.33899000e+03, 1.37878860e+07],\n",
              "       [1.36467000e+03, 1.39381000e+03, 1.34401000e+03, ...,\n",
              "        1.34401000e+03, 1.38623000e+03, 6.68221400e+06]])"
            ]
          },
          "metadata": {
            "tags": []
          },
          "execution_count": 18
        }
      ]
    },
    {
      "cell_type": "code",
      "metadata": {
        "id": "L6OvFfMLHwjj",
        "colab_type": "code",
        "colab": {
          "base_uri": "https://localhost:8080/",
          "height": 51
        },
        "outputId": "28bd11e7-997e-4539-c12f-4f7091c8a944"
      },
      "source": [
        "y = np.array(dataset['Prediction'])\n",
        "y = y[: -30]\n",
        "y"
      ],
      "execution_count": 19,
      "outputs": [
        {
          "output_type": "execute_result",
          "data": {
            "text/plain": [
              "array([1.54166667e+00, 1.51583333e+00, 1.58833333e+00, ...,\n",
              "       1.49556000e+03, 1.55586000e+03, 1.49705000e+03])"
            ]
          },
          "metadata": {
            "tags": []
          },
          "execution_count": 19
        }
      ]
    },
    {
      "cell_type": "code",
      "metadata": {
        "id": "7jxIpkn-KPJS",
        "colab_type": "code",
        "colab": {}
      },
      "source": [
        "from sklearn.model_selection import train_test_split\n",
        "x_train, x_test, y_train, y_test = train_test_split(x, y, test_size = 0.25, random_state = 0)"
      ],
      "execution_count": 20,
      "outputs": []
    },
    {
      "cell_type": "markdown",
      "metadata": {
        "id": "2qkZHiRv8uVn",
        "colab_type": "text"
      },
      "source": [
        "# **Linear Regression**"
      ]
    },
    {
      "cell_type": "code",
      "metadata": {
        "id": "yCDPMnfGIrqd",
        "colab_type": "code",
        "colab": {
          "base_uri": "https://localhost:8080/",
          "height": 34
        },
        "outputId": "5e0b601f-791d-4a77-a2d4-491fb03538e4"
      },
      "source": [
        "from sklearn.linear_model import LinearRegression\n",
        "regressor = LinearRegression()\n",
        "regressor.fit(x_train, y_train)"
      ],
      "execution_count": 30,
      "outputs": [
        {
          "output_type": "execute_result",
          "data": {
            "text/plain": [
              "LinearRegression(copy_X=True, fit_intercept=True, n_jobs=None, normalize=False)"
            ]
          },
          "metadata": {
            "tags": []
          },
          "execution_count": 30
        }
      ]
    },
    {
      "cell_type": "code",
      "metadata": {
        "id": "oDhB3WdgLxDF",
        "colab_type": "code",
        "colab": {
          "base_uri": "https://localhost:8080/",
          "height": 136
        },
        "outputId": "19ce4f8e-9c6c-4f0e-c31c-2c202e152eff"
      },
      "source": [
        "#comparing y_test and y_pred\n",
        "\n",
        "y_pred = regressor.predict(x_test)\n",
        "print(np.concatenate((y_pred.reshape(len(y_pred),1), y_test.reshape(len(y_test),1)),1))"
      ],
      "execution_count": 31,
      "outputs": [
        {
          "output_type": "stream",
          "text": [
            "[[  48.77623605   51.98      ]\n",
            " [  89.91277196   72.08      ]\n",
            " [ 120.92958903  136.579     ]\n",
            " ...\n",
            " [   5.06923379   14.72      ]\n",
            " [1061.14864383  999.855     ]\n",
            " [  45.92019632   59.59      ]]\n"
          ],
          "name": "stdout"
        }
      ]
    },
    {
      "cell_type": "markdown",
      "metadata": {
        "id": "_sbdZ8ea80xU",
        "colab_type": "text"
      },
      "source": [
        "# **ACCURACY SCORE**"
      ]
    },
    {
      "cell_type": "code",
      "metadata": {
        "id": "xaeP3TMYI-3s",
        "colab_type": "code",
        "colab": {
          "base_uri": "https://localhost:8080/",
          "height": 34
        },
        "outputId": "5fc04631-1d6f-4948-d9d0-9e5a0ebefe2c"
      },
      "source": [
        "accuracy = regressor.score(x_test, y_test)\n",
        "accuracy"
      ],
      "execution_count": 32,
      "outputs": [
        {
          "output_type": "execute_result",
          "data": {
            "text/plain": [
              "0.9892536013136081"
            ]
          },
          "metadata": {
            "tags": []
          },
          "execution_count": 32
        }
      ]
    },
    {
      "cell_type": "code",
      "metadata": {
        "id": "QTCSdnPbLFEk",
        "colab_type": "code",
        "colab": {
          "base_uri": "https://localhost:8080/",
          "height": 1000
        },
        "outputId": "35484713-6b6b-49aa-d6f9-d73574fb3100"
      },
      "source": [
        "remaining_x = np.array(dataset.drop(['Prediction'], 1))[-30:]\n",
        "remaining_x"
      ],
      "execution_count": 33,
      "outputs": [
        {
          "output_type": "execute_result",
          "data": {
            "text/plain": [
              "array([[1.385930e+03, 1.419720e+03, 1.383530e+03, 1.414510e+03,\n",
              "        5.858860e+06, 0.000000e+00, 1.000000e+00, 1.385930e+03,\n",
              "        1.419720e+03, 1.383530e+03, 1.414510e+03, 5.858860e+06],\n",
              "       [1.406250e+03, 1.452060e+03, 1.403360e+03, 1.451050e+03,\n",
              "        5.881238e+06, 0.000000e+00, 1.000000e+00, 1.406250e+03,\n",
              "        1.452060e+03, 1.403360e+03, 1.451050e+03, 5.881238e+06],\n",
              "       [1.466890e+03, 1.468940e+03, 1.436840e+03, 1.461760e+03,\n",
              "        5.598111e+06, 0.000000e+00, 1.000000e+00, 1.466890e+03,\n",
              "        1.468940e+03, 1.436840e+03, 1.461760e+03, 5.598111e+06],\n",
              "       [1.457370e+03, 1.465800e+03, 1.446560e+03, 1.448690e+03,\n",
              "        4.410879e+06, 0.000000e+00, 1.000000e+00, 1.457370e+03,\n",
              "        1.465800e+03, 1.446560e+03, 1.448690e+03, 4.410879e+06],\n",
              "       [1.446490e+03, 1.488770e+03, 1.446490e+03, 1.468350e+03,\n",
              "        6.388374e+06, 0.000000e+00, 1.000000e+00, 1.446490e+03,\n",
              "        1.488770e+03, 1.446490e+03, 1.468350e+03, 6.388374e+06],\n",
              "       [1.485000e+03, 1.503490e+03, 1.478920e+03, 1.482920e+03,\n",
              "        6.216694e+06, 0.000000e+00, 1.000000e+00, 1.485000e+03,\n",
              "        1.503490e+03, 1.478920e+03, 1.482920e+03, 6.216694e+06],\n",
              "       [1.495360e+03, 1.502540e+03, 1.475760e+03, 1.484760e+03,\n",
              "        4.732555e+06, 0.000000e+00, 1.000000e+00, 1.495360e+03,\n",
              "        1.502540e+03, 1.475760e+03, 1.484760e+03, 4.732555e+06],\n",
              "       [1.495340e+03, 1.500000e+03, 1.486500e+03, 1.500000e+03,\n",
              "        4.327008e+06, 0.000000e+00, 1.000000e+00, 1.495340e+03,\n",
              "        1.500000e+03, 1.486500e+03, 1.500000e+03, 4.327008e+06],\n",
              "       [1.509200e+03, 1.522840e+03, 1.507000e+03, 1.521950e+03,\n",
              "        4.909053e+06, 0.000000e+00, 1.000000e+00, 1.509200e+03,\n",
              "        1.522840e+03, 1.507000e+03, 1.521950e+03, 4.909053e+06],\n",
              "       [1.524500e+03, 1.526780e+03, 1.507210e+03, 1.511980e+03,\n",
              "        4.708378e+06, 0.000000e+00, 1.000000e+00, 1.524500e+03,\n",
              "        1.526780e+03, 1.507210e+03, 1.511980e+03, 4.708378e+06],\n",
              "       [1.519510e+03, 1.528700e+03, 1.512000e+03, 1.512450e+03,\n",
              "        4.426580e+06, 0.000000e+00, 1.000000e+00, 1.519510e+03,\n",
              "        1.528700e+03, 1.512000e+03, 1.512450e+03, 4.426580e+06],\n",
              "       [1.513600e+03, 1.518490e+03, 1.465000e+03, 1.493450e+03,\n",
              "        6.835230e+06, 0.000000e+00, 1.000000e+00, 1.513600e+03,\n",
              "        1.518490e+03, 1.465000e+03, 1.493450e+03, 6.835230e+06],\n",
              "       [1.469100e+03, 1.501050e+03, 1.455010e+03, 1.500250e+03,\n",
              "        6.587564e+06, 0.000000e+00, 1.000000e+00, 1.469100e+03,\n",
              "        1.501050e+03, 1.455010e+03, 1.500250e+03, 6.587564e+06],\n",
              "       [1.494240e+03, 1.525380e+03, 1.481000e+03, 1.523610e+03,\n",
              "        5.233934e+06, 0.000000e+00, 1.000000e+00, 1.494240e+03,\n",
              "        1.525380e+03, 1.481000e+03, 1.523610e+03, 5.233934e+06],\n",
              "       [1.533200e+03, 1.542130e+03, 1.528000e+03, 1.537640e+03,\n",
              "        4.561718e+06, 0.000000e+00, 1.000000e+00, 1.533200e+03,\n",
              "        1.542130e+03, 1.528000e+03, 1.537640e+03, 4.561718e+06],\n",
              "       [1.526520e+03, 1.545900e+03, 1.522510e+03, 1.545000e+03,\n",
              "        4.174123e+06, 0.000000e+00, 1.000000e+00, 1.526520e+03,\n",
              "        1.545900e+03, 1.522510e+03, 1.545000e+03, 4.174123e+06],\n",
              "       [1.550000e+03, 1.554880e+03, 1.545250e+03, 1.551860e+03,\n",
              "        3.512528e+06, 0.000000e+00, 1.000000e+00, 1.550000e+03,\n",
              "        1.554880e+03, 1.545250e+03, 1.551860e+03, 3.512528e+06],\n",
              "       [1.563500e+03, 1.578940e+03, 1.559080e+03, 1.578890e+03,\n",
              "        4.417059e+06, 0.000000e+00, 1.000000e+00, 1.563500e+03,\n",
              "        1.578940e+03, 1.559080e+03, 1.578890e+03, 4.417059e+06],\n",
              "       [1.592600e+03, 1.605330e+03, 1.586700e+03, 1.598390e+03,\n",
              "        5.115886e+06, 0.000000e+00, 1.000000e+00, 1.592600e+03,\n",
              "        1.605330e+03, 1.586700e+03, 1.598390e+03, 5.115886e+06],\n",
              "       [1.615960e+03, 1.617540e+03, 1.578010e+03, 1.588180e+03,\n",
              "        6.427066e+06, 0.000000e+00, 1.000000e+00, 1.615960e+03,\n",
              "        1.617540e+03, 1.578010e+03, 1.588180e+03, 6.427066e+06],\n",
              "       [1.597000e+03, 1.606440e+03, 1.590890e+03, 1.591000e+03,\n",
              "        4.164395e+06, 0.000000e+00, 1.000000e+00, 1.597000e+03,\n",
              "        1.606440e+03, 1.590890e+03, 1.591000e+03, 4.164395e+06],\n",
              "       [1.595000e+03, 1.596910e+03, 1.578110e+03, 1.582320e+03,\n",
              "        4.026744e+06, 0.000000e+00, 1.000000e+00, 1.595000e+03,\n",
              "        1.596910e+03, 1.578110e+03, 1.582320e+03, 4.026744e+06],\n",
              "       [1.583450e+03, 1.589440e+03, 1.567500e+03, 1.571680e+03,\n",
              "        5.145054e+06, 0.000000e+00, 1.000000e+00, 1.583450e+03,\n",
              "        1.589440e+03, 1.567500e+03, 1.571680e+03, 5.145054e+06],\n",
              "       [1.554530e+03, 1.561660e+03, 1.525350e+03, 1.544930e+03,\n",
              "        6.376619e+06, 0.000000e+00, 1.000000e+00, 1.554530e+03,\n",
              "        1.561660e+03, 1.525350e+03, 1.544930e+03, 6.376619e+06],\n",
              "       [1.550340e+03, 1.587000e+03, 1.545410e+03, 1.586510e+03,\n",
              "        4.507049e+06, 0.000000e+00, 1.000000e+00, 1.550340e+03,\n",
              "        1.587000e+03, 1.545410e+03, 1.586510e+03, 4.507049e+06],\n",
              "       [1.586450e+03, 1.590000e+03, 1.563170e+03, 1.581860e+03,\n",
              "        4.667291e+06, 0.000000e+00, 1.000000e+00, 1.586450e+03,\n",
              "        1.590000e+03, 1.563170e+03, 1.581860e+03, 4.667291e+06],\n",
              "       [1.565470e+03, 1.573850e+03, 1.542400e+03, 1.544100e+03,\n",
              "        6.177737e+06, 0.000000e+00, 1.000000e+00, 1.565470e+03,\n",
              "        1.573850e+03, 1.542400e+03, 1.544100e+03, 6.177737e+06],\n",
              "       [1.539010e+03, 1.549020e+03, 1.495360e+03, 1.495560e+03,\n",
              "        7.843966e+06, 0.000000e+00, 1.000000e+00, 1.539010e+03,\n",
              "        1.549020e+03, 1.495360e+03, 1.495560e+03, 7.843966e+06],\n",
              "       [1.530000e+03, 1.556990e+03, 1.499250e+03, 1.555860e+03,\n",
              "        5.547618e+06, 0.000000e+00, 1.000000e+00, 1.530000e+03,\n",
              "        1.556990e+03, 1.499250e+03, 1.555860e+03, 5.547618e+06],\n",
              "       [1.572400e+03, 1.575960e+03, 1.482320e+03, 1.497050e+03,\n",
              "        6.793279e+06, 0.000000e+00, 1.000000e+00, 1.572400e+03,\n",
              "        1.575960e+03, 1.482320e+03, 1.497050e+03, 6.793279e+06]])"
            ]
          },
          "metadata": {
            "tags": []
          },
          "execution_count": 33
        }
      ]
    },
    {
      "cell_type": "code",
      "metadata": {
        "id": "cqAUrq_d6TVT",
        "colab_type": "code",
        "colab": {
          "base_uri": "https://localhost:8080/",
          "height": 153
        },
        "outputId": "969495d6-1d23-4a48-8cb9-00309aaa36a2"
      },
      "source": [
        "#prediction of the last 30 dataset\n",
        "\n",
        "new_y = regressor.predict(remaining_x)\n",
        "new_y"
      ],
      "execution_count": 34,
      "outputs": [
        {
          "output_type": "execute_result",
          "data": {
            "text/plain": [
              "array([1502.67127469, 1545.3979061 , 1565.0160193 , 1535.52051514,\n",
              "       1553.33191543, 1569.01839397, 1579.05797806, 1595.29076826,\n",
              "       1615.35968735, 1606.97393174, 1601.60899203, 1603.72124011,\n",
              "       1602.88928906, 1626.57594229, 1631.73316289, 1641.86183701,\n",
              "       1646.4966961 , 1677.8928154 , 1696.3178362 , 1695.17932549,\n",
              "       1684.52641203, 1681.45162218, 1668.89637549, 1649.66481668,\n",
              "       1689.39136073, 1688.04284266, 1639.6161701 , 1591.79180058,\n",
              "       1671.77949431, 1611.72291414])"
            ]
          },
          "metadata": {
            "tags": []
          },
          "execution_count": 34
        }
      ]
    }
  ]
}